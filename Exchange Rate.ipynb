{
 "cells": [
  {
   "cell_type": "markdown",
   "metadata": {
    "colab_type": "text",
    "id": "WAdCtNRRv2EZ"
   },
   "source": [
    "**DATASET EXHCANGE CURRENCY USD**\n",
    "\n",
    "https://data.oecd.org/conversion/exchange-rates.htm"
   ]
  },
  {
   "cell_type": "code",
   "execution_count": 1,
   "metadata": {},
   "outputs": [],
   "source": [
    "import pandas as pd\n",
    "import numpy as np\n",
    "import matplotlib.pyplot as plt\n",
    "import seaborn as sns\n",
    "import warnings as wrn"
   ]
  },
  {
   "cell_type": "code",
   "execution_count": 2,
   "metadata": {
    "colab": {},
    "colab_type": "code",
    "executionInfo": {
     "elapsed": 976,
     "status": "ok",
     "timestamp": 1599108609811,
     "user": {
      "displayName": "Vincentius Riandaru Prasetyo",
      "photoUrl": "",
      "userId": "08411171129602716721"
     },
     "user_tz": -420
    },
    "id": "wDgGIOY_nN0w"
   },
   "outputs": [],
   "source": [
    "#Importing Dataset\n",
    "dataset = pd.read_csv('exchangedata.csv')"
   ]
  },
  {
   "cell_type": "code",
   "execution_count": 3,
   "metadata": {},
   "outputs": [
    {
     "data": {
      "text/html": [
       "<div>\n",
       "<style scoped>\n",
       "    .dataframe tbody tr th:only-of-type {\n",
       "        vertical-align: middle;\n",
       "    }\n",
       "\n",
       "    .dataframe tbody tr th {\n",
       "        vertical-align: top;\n",
       "    }\n",
       "\n",
       "    .dataframe thead th {\n",
       "        text-align: right;\n",
       "    }\n",
       "</style>\n",
       "<table border=\"1\" class=\"dataframe\">\n",
       "  <thead>\n",
       "    <tr style=\"text-align: right;\">\n",
       "      <th></th>\n",
       "      <th>LOCATION</th>\n",
       "      <th>INDICATOR</th>\n",
       "      <th>SUBJECT</th>\n",
       "      <th>MEASURE</th>\n",
       "      <th>FREQUENCY</th>\n",
       "      <th>TIME</th>\n",
       "      <th>Value</th>\n",
       "      <th>Flag Codes</th>\n",
       "    </tr>\n",
       "  </thead>\n",
       "  <tbody>\n",
       "    <tr>\n",
       "      <th>0</th>\n",
       "      <td>AUS</td>\n",
       "      <td>EXCH</td>\n",
       "      <td>TOT</td>\n",
       "      <td>NATUSD</td>\n",
       "      <td>A</td>\n",
       "      <td>1950</td>\n",
       "      <td>0.892857</td>\n",
       "      <td>NaN</td>\n",
       "    </tr>\n",
       "    <tr>\n",
       "      <th>1</th>\n",
       "      <td>AUS</td>\n",
       "      <td>EXCH</td>\n",
       "      <td>TOT</td>\n",
       "      <td>NATUSD</td>\n",
       "      <td>A</td>\n",
       "      <td>1951</td>\n",
       "      <td>0.892857</td>\n",
       "      <td>NaN</td>\n",
       "    </tr>\n",
       "    <tr>\n",
       "      <th>2</th>\n",
       "      <td>AUS</td>\n",
       "      <td>EXCH</td>\n",
       "      <td>TOT</td>\n",
       "      <td>NATUSD</td>\n",
       "      <td>A</td>\n",
       "      <td>1952</td>\n",
       "      <td>0.892857</td>\n",
       "      <td>NaN</td>\n",
       "    </tr>\n",
       "    <tr>\n",
       "      <th>3</th>\n",
       "      <td>AUS</td>\n",
       "      <td>EXCH</td>\n",
       "      <td>TOT</td>\n",
       "      <td>NATUSD</td>\n",
       "      <td>A</td>\n",
       "      <td>1953</td>\n",
       "      <td>0.892857</td>\n",
       "      <td>NaN</td>\n",
       "    </tr>\n",
       "    <tr>\n",
       "      <th>4</th>\n",
       "      <td>AUS</td>\n",
       "      <td>EXCH</td>\n",
       "      <td>TOT</td>\n",
       "      <td>NATUSD</td>\n",
       "      <td>A</td>\n",
       "      <td>1954</td>\n",
       "      <td>0.892857</td>\n",
       "      <td>NaN</td>\n",
       "    </tr>\n",
       "  </tbody>\n",
       "</table>\n",
       "</div>"
      ],
      "text/plain": [
       "  LOCATION INDICATOR SUBJECT MEASURE FREQUENCY  TIME     Value  Flag Codes\n",
       "0      AUS      EXCH     TOT  NATUSD         A  1950  0.892857         NaN\n",
       "1      AUS      EXCH     TOT  NATUSD         A  1951  0.892857         NaN\n",
       "2      AUS      EXCH     TOT  NATUSD         A  1952  0.892857         NaN\n",
       "3      AUS      EXCH     TOT  NATUSD         A  1953  0.892857         NaN\n",
       "4      AUS      EXCH     TOT  NATUSD         A  1954  0.892857         NaN"
      ]
     },
     "execution_count": 3,
     "metadata": {},
     "output_type": "execute_result"
    }
   ],
   "source": [
    "dataset.head()"
   ]
  },
  {
   "cell_type": "code",
   "execution_count": 4,
   "metadata": {},
   "outputs": [],
   "source": [
    "dataset = dataset.drop(['Flag Codes', 'INDICATOR', 'SUBJECT', 'MEASURE', 'FREQUENCY'], axis=1)"
   ]
  },
  {
   "cell_type": "code",
   "execution_count": 5,
   "metadata": {},
   "outputs": [
    {
     "data": {
      "text/html": [
       "<div>\n",
       "<style scoped>\n",
       "    .dataframe tbody tr th:only-of-type {\n",
       "        vertical-align: middle;\n",
       "    }\n",
       "\n",
       "    .dataframe tbody tr th {\n",
       "        vertical-align: top;\n",
       "    }\n",
       "\n",
       "    .dataframe thead th {\n",
       "        text-align: right;\n",
       "    }\n",
       "</style>\n",
       "<table border=\"1\" class=\"dataframe\">\n",
       "  <thead>\n",
       "    <tr style=\"text-align: right;\">\n",
       "      <th></th>\n",
       "      <th>LOCATION</th>\n",
       "      <th>TIME</th>\n",
       "      <th>Value</th>\n",
       "    </tr>\n",
       "  </thead>\n",
       "  <tbody>\n",
       "    <tr>\n",
       "      <th>0</th>\n",
       "      <td>AUS</td>\n",
       "      <td>1950</td>\n",
       "      <td>0.892857</td>\n",
       "    </tr>\n",
       "    <tr>\n",
       "      <th>1</th>\n",
       "      <td>AUS</td>\n",
       "      <td>1951</td>\n",
       "      <td>0.892857</td>\n",
       "    </tr>\n",
       "    <tr>\n",
       "      <th>2</th>\n",
       "      <td>AUS</td>\n",
       "      <td>1952</td>\n",
       "      <td>0.892857</td>\n",
       "    </tr>\n",
       "    <tr>\n",
       "      <th>3</th>\n",
       "      <td>AUS</td>\n",
       "      <td>1953</td>\n",
       "      <td>0.892857</td>\n",
       "    </tr>\n",
       "    <tr>\n",
       "      <th>4</th>\n",
       "      <td>AUS</td>\n",
       "      <td>1954</td>\n",
       "      <td>0.892857</td>\n",
       "    </tr>\n",
       "  </tbody>\n",
       "</table>\n",
       "</div>"
      ],
      "text/plain": [
       "  LOCATION  TIME     Value\n",
       "0      AUS  1950  0.892857\n",
       "1      AUS  1951  0.892857\n",
       "2      AUS  1952  0.892857\n",
       "3      AUS  1953  0.892857\n",
       "4      AUS  1954  0.892857"
      ]
     },
     "execution_count": 5,
     "metadata": {},
     "output_type": "execute_result"
    }
   ],
   "source": [
    "dataset.head()"
   ]
  },
  {
   "cell_type": "code",
   "execution_count": 6,
   "metadata": {},
   "outputs": [
    {
     "data": {
      "text/html": [
       "<div>\n",
       "<style scoped>\n",
       "    .dataframe tbody tr th:only-of-type {\n",
       "        vertical-align: middle;\n",
       "    }\n",
       "\n",
       "    .dataframe tbody tr th {\n",
       "        vertical-align: top;\n",
       "    }\n",
       "\n",
       "    .dataframe thead th {\n",
       "        text-align: right;\n",
       "    }\n",
       "</style>\n",
       "<table border=\"1\" class=\"dataframe\">\n",
       "  <thead>\n",
       "    <tr style=\"text-align: right;\">\n",
       "      <th></th>\n",
       "      <th>LOCATION</th>\n",
       "      <th>TIME</th>\n",
       "      <th>Value</th>\n",
       "    </tr>\n",
       "  </thead>\n",
       "  <tbody>\n",
       "    <tr>\n",
       "      <th>2405</th>\n",
       "      <td>IDN</td>\n",
       "      <td>1967</td>\n",
       "      <td>149.583333</td>\n",
       "    </tr>\n",
       "    <tr>\n",
       "      <th>2406</th>\n",
       "      <td>IDN</td>\n",
       "      <td>1968</td>\n",
       "      <td>296.291667</td>\n",
       "    </tr>\n",
       "    <tr>\n",
       "      <th>2407</th>\n",
       "      <td>IDN</td>\n",
       "      <td>1969</td>\n",
       "      <td>326.000000</td>\n",
       "    </tr>\n",
       "    <tr>\n",
       "      <th>2408</th>\n",
       "      <td>IDN</td>\n",
       "      <td>1970</td>\n",
       "      <td>362.833333</td>\n",
       "    </tr>\n",
       "    <tr>\n",
       "      <th>2409</th>\n",
       "      <td>IDN</td>\n",
       "      <td>1971</td>\n",
       "      <td>391.875000</td>\n",
       "    </tr>\n",
       "  </tbody>\n",
       "</table>\n",
       "</div>"
      ],
      "text/plain": [
       "     LOCATION  TIME       Value\n",
       "2405      IDN  1967  149.583333\n",
       "2406      IDN  1968  296.291667\n",
       "2407      IDN  1969  326.000000\n",
       "2408      IDN  1970  362.833333\n",
       "2409      IDN  1971  391.875000"
      ]
     },
     "execution_count": 6,
     "metadata": {},
     "output_type": "execute_result"
    }
   ],
   "source": [
    "df_indo = dataset[dataset['LOCATION'] == 'IDN']\n",
    "df_indo.head()"
   ]
  },
  {
   "cell_type": "code",
   "execution_count": 7,
   "metadata": {},
   "outputs": [
    {
     "data": {
      "text/html": [
       "<div>\n",
       "<style scoped>\n",
       "    .dataframe tbody tr th:only-of-type {\n",
       "        vertical-align: middle;\n",
       "    }\n",
       "\n",
       "    .dataframe tbody tr th {\n",
       "        vertical-align: top;\n",
       "    }\n",
       "\n",
       "    .dataframe thead th {\n",
       "        text-align: right;\n",
       "    }\n",
       "</style>\n",
       "<table border=\"1\" class=\"dataframe\">\n",
       "  <thead>\n",
       "    <tr style=\"text-align: right;\">\n",
       "      <th></th>\n",
       "      <th>LOCATION</th>\n",
       "      <th>TIME</th>\n",
       "      <th>Value</th>\n",
       "    </tr>\n",
       "  </thead>\n",
       "  <tbody>\n",
       "    <tr>\n",
       "      <th>2405</th>\n",
       "      <td>IDN</td>\n",
       "      <td>1967</td>\n",
       "      <td>149.583333</td>\n",
       "    </tr>\n",
       "    <tr>\n",
       "      <th>2406</th>\n",
       "      <td>IDN</td>\n",
       "      <td>1968</td>\n",
       "      <td>296.291667</td>\n",
       "    </tr>\n",
       "    <tr>\n",
       "      <th>2407</th>\n",
       "      <td>IDN</td>\n",
       "      <td>1969</td>\n",
       "      <td>326.000000</td>\n",
       "    </tr>\n",
       "    <tr>\n",
       "      <th>2408</th>\n",
       "      <td>IDN</td>\n",
       "      <td>1970</td>\n",
       "      <td>362.833333</td>\n",
       "    </tr>\n",
       "    <tr>\n",
       "      <th>2409</th>\n",
       "      <td>IDN</td>\n",
       "      <td>1971</td>\n",
       "      <td>391.875000</td>\n",
       "    </tr>\n",
       "  </tbody>\n",
       "</table>\n",
       "</div>"
      ],
      "text/plain": [
       "     LOCATION  TIME       Value\n",
       "2405      IDN  1967  149.583333\n",
       "2406      IDN  1968  296.291667\n",
       "2407      IDN  1969  326.000000\n",
       "2408      IDN  1970  362.833333\n",
       "2409      IDN  1971  391.875000"
      ]
     },
     "execution_count": 7,
     "metadata": {},
     "output_type": "execute_result"
    }
   ],
   "source": [
    "df_krisis = df_indo[df_indo['TIME'] <= 1997]\n",
    "df_krisis.head()"
   ]
  },
  {
   "cell_type": "code",
   "execution_count": 8,
   "metadata": {},
   "outputs": [
    {
     "data": {
      "text/plain": [
       "1096.8067895161291"
      ]
     },
     "execution_count": 8,
     "metadata": {},
     "output_type": "execute_result"
    }
   ],
   "source": [
    "df_krisis[\"Value\"].mean()"
   ]
  },
  {
   "cell_type": "code",
   "execution_count": 9,
   "metadata": {},
   "outputs": [
    {
     "name": "stderr",
     "output_type": "stream",
     "text": [
      "c:\\users\\wisnoe\\anaconda3\\envs\\coba\\lib\\site-packages\\seaborn\\_decorators.py:43: FutureWarning: Pass the following variables as keyword args: x, y. From version 0.12, the only valid positional argument will be `data`, and passing other arguments without an explicit keyword will result in an error or misinterpretation.\n",
      "  FutureWarning\n"
     ]
    },
    {
     "data": {
      "image/png": "[encoded data removed]",
      "text/plain": [
       "<Figure size 720x504 with 1 Axes>"
      ]
     },
     "metadata": {
      "needs_background": "light"
     },
     "output_type": "display_data"
    }
   ],
   "source": [
    "plt.figure(figsize=(10,7))\n",
    "sns.barplot(df_krisis['TIME'], df_krisis['Value'], alpha=0.8)\n",
    "plt.title('BEFORE CRISIS')\n",
    "plt.ylabel('Exchange Rate', fontsize=12)\n",
    "plt.xticks(rotation=90)\n",
    "plt.xlabel('Year', fontsize=12)\n",
    "plt.show()"
   ]
  },
  {
   "cell_type": "code",
   "execution_count": 10,
   "metadata": {},
   "outputs": [
    {
     "data": {
      "text/html": [
       "<div>\n",
       "<style scoped>\n",
       "    .dataframe tbody tr th:only-of-type {\n",
       "        vertical-align: middle;\n",
       "    }\n",
       "\n",
       "    .dataframe tbody tr th {\n",
       "        vertical-align: top;\n",
       "    }\n",
       "\n",
       "    .dataframe thead th {\n",
       "        text-align: right;\n",
       "    }\n",
       "</style>\n",
       "<table border=\"1\" class=\"dataframe\">\n",
       "  <thead>\n",
       "    <tr style=\"text-align: right;\">\n",
       "      <th></th>\n",
       "      <th>LOCATION</th>\n",
       "      <th>TIME</th>\n",
       "      <th>Value</th>\n",
       "    </tr>\n",
       "  </thead>\n",
       "  <tbody>\n",
       "    <tr>\n",
       "      <th>2436</th>\n",
       "      <td>IDN</td>\n",
       "      <td>1998</td>\n",
       "      <td>10013.622500</td>\n",
       "    </tr>\n",
       "    <tr>\n",
       "      <th>2437</th>\n",
       "      <td>IDN</td>\n",
       "      <td>1999</td>\n",
       "      <td>7855.150000</td>\n",
       "    </tr>\n",
       "    <tr>\n",
       "      <th>2438</th>\n",
       "      <td>IDN</td>\n",
       "      <td>2000</td>\n",
       "      <td>8421.775000</td>\n",
       "    </tr>\n",
       "    <tr>\n",
       "      <th>2439</th>\n",
       "      <td>IDN</td>\n",
       "      <td>2001</td>\n",
       "      <td>10260.850000</td>\n",
       "    </tr>\n",
       "    <tr>\n",
       "      <th>2440</th>\n",
       "      <td>IDN</td>\n",
       "      <td>2002</td>\n",
       "      <td>9311.191667</td>\n",
       "    </tr>\n",
       "  </tbody>\n",
       "</table>\n",
       "</div>"
      ],
      "text/plain": [
       "     LOCATION  TIME         Value\n",
       "2436      IDN  1998  10013.622500\n",
       "2437      IDN  1999   7855.150000\n",
       "2438      IDN  2000   8421.775000\n",
       "2439      IDN  2001  10260.850000\n",
       "2440      IDN  2002   9311.191667"
      ]
     },
     "execution_count": 10,
     "metadata": {},
     "output_type": "execute_result"
    }
   ],
   "source": [
    "df_afterkrisis = df_indo[df_indo['TIME'] >= 1998]\n",
    "df_afterkrisis.head()"
   ]
  },
  {
   "cell_type": "code",
   "execution_count": 11,
   "metadata": {
    "scrolled": true
   },
   "outputs": [
    {
     "name": "stderr",
     "output_type": "stream",
     "text": [
      "c:\\users\\wisnoe\\anaconda3\\envs\\coba\\lib\\site-packages\\seaborn\\_decorators.py:43: FutureWarning: Pass the following variables as keyword args: x, y. From version 0.12, the only valid positional argument will be `data`, and passing other arguments without an explicit keyword will result in an error or misinterpretation.\n",
      "  FutureWarning\n"
     ]
    },
    {
     "data": {
      "image/png": "[encoded data removed]",
      "text/plain": [
       "<Figure size 720x504 with 1 Axes>"
      ]
     },
     "metadata": {
      "needs_background": "light"
     },
     "output_type": "display_data"
    }
   ],
   "source": [
    "plt.figure(figsize=(10,7))\n",
    "sns.barplot(df_afterkrisis['TIME'], df_afterkrisis['Value'], alpha=0.8)\n",
    "plt.title('AFTER CRISIS')\n",
    "plt.ylabel('Exchange Rate', fontsize=12)\n",
    "plt.xticks(rotation=90)\n",
    "plt.xlabel('Year', fontsize=12)\n",
    "plt.show()"
   ]
  },
  {
   "cell_type": "code",
   "execution_count": 13,
   "metadata": {},
   "outputs": [
    {
     "name": "stdout",
     "output_type": "stream",
     "text": [
      "71.042425 %\n"
     ]
    }
   ],
   "source": [
    "df_after97 = df_indo[df_indo['TIME'] == 1998]\n",
    "df_krisis97 = df_indo[df_indo['TIME'] == 1997]\n",
    "\n",
    "after = df_after97.iloc[0]['Value']\n",
    "before = df_krisis97.iloc[0]['Value']\n",
    "print((after - before) /100, '%') "
   ]
  },
  {
   "cell_type": "markdown",
   "metadata": {},
   "source": [
    "**DATASET INFLATION BASED ON CPI (Customer Price Index)**\n",
    "\n",
    "https://data.oecd.org/price/inflation-cpi.htm\n",
    "\n",
    "ENRG = energy\n",
    "\n",
    "FOOD = food\n",
    "\n",
    "TOT_FOODENRG = total food & energy"
   ]
  },
  {
   "cell_type": "code",
   "execution_count": 14,
   "metadata": {},
   "outputs": [],
   "source": [
    "dataset2 = pd.read_csv('inflation.csv')"
   ]
  },
  {
   "cell_type": "code",
   "execution_count": 15,
   "metadata": {},
   "outputs": [
    {
     "data": {
      "text/html": [
       "<div>\n",
       "<style scoped>\n",
       "    .dataframe tbody tr th:only-of-type {\n",
       "        vertical-align: middle;\n",
       "    }\n",
       "\n",
       "    .dataframe tbody tr th {\n",
       "        vertical-align: top;\n",
       "    }\n",
       "\n",
       "    .dataframe thead th {\n",
       "        text-align: right;\n",
       "    }\n",
       "</style>\n",
       "<table border=\"1\" class=\"dataframe\">\n",
       "  <thead>\n",
       "    <tr style=\"text-align: right;\">\n",
       "      <th></th>\n",
       "      <th>LOCATION</th>\n",
       "      <th>INDICATOR</th>\n",
       "      <th>SUBJECT</th>\n",
       "      <th>MEASURE</th>\n",
       "      <th>FREQUENCY</th>\n",
       "      <th>TIME</th>\n",
       "      <th>Value</th>\n",
       "      <th>Flag Codes</th>\n",
       "    </tr>\n",
       "  </thead>\n",
       "  <tbody>\n",
       "    <tr>\n",
       "      <th>0</th>\n",
       "      <td>AUS</td>\n",
       "      <td>CPI</td>\n",
       "      <td>ENRG</td>\n",
       "      <td>AGRWTH</td>\n",
       "      <td>A</td>\n",
       "      <td>1972</td>\n",
       "      <td>4.910070</td>\n",
       "      <td>NaN</td>\n",
       "    </tr>\n",
       "    <tr>\n",
       "      <th>1</th>\n",
       "      <td>AUS</td>\n",
       "      <td>CPI</td>\n",
       "      <td>ENRG</td>\n",
       "      <td>AGRWTH</td>\n",
       "      <td>A</td>\n",
       "      <td>1973</td>\n",
       "      <td>3.762801</td>\n",
       "      <td>NaN</td>\n",
       "    </tr>\n",
       "    <tr>\n",
       "      <th>2</th>\n",
       "      <td>AUS</td>\n",
       "      <td>CPI</td>\n",
       "      <td>ENRG</td>\n",
       "      <td>AGRWTH</td>\n",
       "      <td>A</td>\n",
       "      <td>1974</td>\n",
       "      <td>13.173540</td>\n",
       "      <td>NaN</td>\n",
       "    </tr>\n",
       "    <tr>\n",
       "      <th>3</th>\n",
       "      <td>AUS</td>\n",
       "      <td>CPI</td>\n",
       "      <td>ENRG</td>\n",
       "      <td>AGRWTH</td>\n",
       "      <td>A</td>\n",
       "      <td>1975</td>\n",
       "      <td>19.422470</td>\n",
       "      <td>NaN</td>\n",
       "    </tr>\n",
       "    <tr>\n",
       "      <th>4</th>\n",
       "      <td>AUS</td>\n",
       "      <td>CPI</td>\n",
       "      <td>ENRG</td>\n",
       "      <td>AGRWTH</td>\n",
       "      <td>A</td>\n",
       "      <td>1976</td>\n",
       "      <td>8.833195</td>\n",
       "      <td>NaN</td>\n",
       "    </tr>\n",
       "  </tbody>\n",
       "</table>\n",
       "</div>"
      ],
      "text/plain": [
       "  LOCATION INDICATOR SUBJECT MEASURE FREQUENCY  TIME      Value Flag Codes\n",
       "0      AUS       CPI    ENRG  AGRWTH         A  1972   4.910070        NaN\n",
       "1      AUS       CPI    ENRG  AGRWTH         A  1973   3.762801        NaN\n",
       "2      AUS       CPI    ENRG  AGRWTH         A  1974  13.173540        NaN\n",
       "3      AUS       CPI    ENRG  AGRWTH         A  1975  19.422470        NaN\n",
       "4      AUS       CPI    ENRG  AGRWTH         A  1976   8.833195        NaN"
      ]
     },
     "execution_count": 15,
     "metadata": {},
     "output_type": "execute_result"
    }
   ],
   "source": [
    "dataset2.head()"
   ]
  },
  {
   "cell_type": "code",
   "execution_count": 16,
   "metadata": {},
   "outputs": [],
   "source": [
    "dataset2 = dataset2.drop(['Flag Codes', 'INDICATOR', 'FREQUENCY'], axis=1)"
   ]
  },
  {
   "cell_type": "code",
   "execution_count": 17,
   "metadata": {},
   "outputs": [
    {
     "data": {
      "text/html": [
       "<div>\n",
       "<style scoped>\n",
       "    .dataframe tbody tr th:only-of-type {\n",
       "        vertical-align: middle;\n",
       "    }\n",
       "\n",
       "    .dataframe tbody tr th {\n",
       "        vertical-align: top;\n",
       "    }\n",
       "\n",
       "    .dataframe thead th {\n",
       "        text-align: right;\n",
       "    }\n",
       "</style>\n",
       "<table border=\"1\" class=\"dataframe\">\n",
       "  <thead>\n",
       "    <tr style=\"text-align: right;\">\n",
       "      <th></th>\n",
       "      <th>LOCATION</th>\n",
       "      <th>SUBJECT</th>\n",
       "      <th>MEASURE</th>\n",
       "      <th>TIME</th>\n",
       "      <th>Value</th>\n",
       "    </tr>\n",
       "  </thead>\n",
       "  <tbody>\n",
       "    <tr>\n",
       "      <th>0</th>\n",
       "      <td>AUS</td>\n",
       "      <td>ENRG</td>\n",
       "      <td>AGRWTH</td>\n",
       "      <td>1972</td>\n",
       "      <td>4.910070</td>\n",
       "    </tr>\n",
       "    <tr>\n",
       "      <th>1</th>\n",
       "      <td>AUS</td>\n",
       "      <td>ENRG</td>\n",
       "      <td>AGRWTH</td>\n",
       "      <td>1973</td>\n",
       "      <td>3.762801</td>\n",
       "    </tr>\n",
       "    <tr>\n",
       "      <th>2</th>\n",
       "      <td>AUS</td>\n",
       "      <td>ENRG</td>\n",
       "      <td>AGRWTH</td>\n",
       "      <td>1974</td>\n",
       "      <td>13.173540</td>\n",
       "    </tr>\n",
       "    <tr>\n",
       "      <th>3</th>\n",
       "      <td>AUS</td>\n",
       "      <td>ENRG</td>\n",
       "      <td>AGRWTH</td>\n",
       "      <td>1975</td>\n",
       "      <td>19.422470</td>\n",
       "    </tr>\n",
       "    <tr>\n",
       "      <th>4</th>\n",
       "      <td>AUS</td>\n",
       "      <td>ENRG</td>\n",
       "      <td>AGRWTH</td>\n",
       "      <td>1976</td>\n",
       "      <td>8.833195</td>\n",
       "    </tr>\n",
       "  </tbody>\n",
       "</table>\n",
       "</div>"
      ],
      "text/plain": [
       "  LOCATION SUBJECT MEASURE  TIME      Value\n",
       "0      AUS    ENRG  AGRWTH  1972   4.910070\n",
       "1      AUS    ENRG  AGRWTH  1973   3.762801\n",
       "2      AUS    ENRG  AGRWTH  1974  13.173540\n",
       "3      AUS    ENRG  AGRWTH  1975  19.422470\n",
       "4      AUS    ENRG  AGRWTH  1976   8.833195"
      ]
     },
     "execution_count": 17,
     "metadata": {},
     "output_type": "execute_result"
    }
   ],
   "source": [
    "dataset2.head()"
   ]
  },
  {
   "cell_type": "code",
   "execution_count": 18,
   "metadata": {},
   "outputs": [
    {
     "data": {
      "text/html": [
       "<div>\n",
       "<style scoped>\n",
       "    .dataframe tbody tr th:only-of-type {\n",
       "        vertical-align: middle;\n",
       "    }\n",
       "\n",
       "    .dataframe tbody tr th {\n",
       "        vertical-align: top;\n",
       "    }\n",
       "\n",
       "    .dataframe thead th {\n",
       "        text-align: right;\n",
       "    }\n",
       "</style>\n",
       "<table border=\"1\" class=\"dataframe\">\n",
       "  <thead>\n",
       "    <tr style=\"text-align: right;\">\n",
       "      <th></th>\n",
       "      <th>LOCATION</th>\n",
       "      <th>SUBJECT</th>\n",
       "      <th>MEASURE</th>\n",
       "      <th>TIME</th>\n",
       "      <th>Value</th>\n",
       "    </tr>\n",
       "  </thead>\n",
       "  <tbody>\n",
       "    <tr>\n",
       "      <th>5227</th>\n",
       "      <td>IDN</td>\n",
       "      <td>TOT</td>\n",
       "      <td>AGRWTH</td>\n",
       "      <td>1969</td>\n",
       "      <td>15.479880</td>\n",
       "    </tr>\n",
       "    <tr>\n",
       "      <th>5228</th>\n",
       "      <td>IDN</td>\n",
       "      <td>TOT</td>\n",
       "      <td>AGRWTH</td>\n",
       "      <td>1970</td>\n",
       "      <td>12.399460</td>\n",
       "    </tr>\n",
       "    <tr>\n",
       "      <th>5229</th>\n",
       "      <td>IDN</td>\n",
       "      <td>TOT</td>\n",
       "      <td>AGRWTH</td>\n",
       "      <td>1971</td>\n",
       "      <td>4.233751</td>\n",
       "    </tr>\n",
       "    <tr>\n",
       "      <th>5230</th>\n",
       "      <td>IDN</td>\n",
       "      <td>TOT</td>\n",
       "      <td>AGRWTH</td>\n",
       "      <td>1972</td>\n",
       "      <td>6.521739</td>\n",
       "    </tr>\n",
       "    <tr>\n",
       "      <th>5231</th>\n",
       "      <td>IDN</td>\n",
       "      <td>TOT</td>\n",
       "      <td>AGRWTH</td>\n",
       "      <td>1973</td>\n",
       "      <td>31.041890</td>\n",
       "    </tr>\n",
       "    <tr>\n",
       "      <th>...</th>\n",
       "      <td>...</td>\n",
       "      <td>...</td>\n",
       "      <td>...</td>\n",
       "      <td>...</td>\n",
       "      <td>...</td>\n",
       "    </tr>\n",
       "    <tr>\n",
       "      <th>262476</th>\n",
       "      <td>IDN</td>\n",
       "      <td>TOT</td>\n",
       "      <td>IDX2015</td>\n",
       "      <td>2021-03</td>\n",
       "      <td>117.839800</td>\n",
       "    </tr>\n",
       "    <tr>\n",
       "      <th>262477</th>\n",
       "      <td>IDN</td>\n",
       "      <td>TOT</td>\n",
       "      <td>IDX2015</td>\n",
       "      <td>2021-04</td>\n",
       "      <td>117.995200</td>\n",
       "    </tr>\n",
       "    <tr>\n",
       "      <th>262478</th>\n",
       "      <td>IDN</td>\n",
       "      <td>TOT</td>\n",
       "      <td>IDX2015</td>\n",
       "      <td>2021-05</td>\n",
       "      <td>118.372700</td>\n",
       "    </tr>\n",
       "    <tr>\n",
       "      <th>262479</th>\n",
       "      <td>IDN</td>\n",
       "      <td>TOT</td>\n",
       "      <td>IDX2015</td>\n",
       "      <td>2021-06</td>\n",
       "      <td>118.183900</td>\n",
       "    </tr>\n",
       "    <tr>\n",
       "      <th>262480</th>\n",
       "      <td>IDN</td>\n",
       "      <td>TOT</td>\n",
       "      <td>IDX2015</td>\n",
       "      <td>2021-07</td>\n",
       "      <td>118.272800</td>\n",
       "    </tr>\n",
       "  </tbody>\n",
       "</table>\n",
       "<p>1803 rows × 5 columns</p>\n",
       "</div>"
      ],
      "text/plain": [
       "       LOCATION SUBJECT  MEASURE     TIME       Value\n",
       "5227        IDN     TOT   AGRWTH     1969   15.479880\n",
       "5228        IDN     TOT   AGRWTH     1970   12.399460\n",
       "5229        IDN     TOT   AGRWTH     1971    4.233751\n",
       "5230        IDN     TOT   AGRWTH     1972    6.521739\n",
       "5231        IDN     TOT   AGRWTH     1973   31.041890\n",
       "...         ...     ...      ...      ...         ...\n",
       "262476      IDN     TOT  IDX2015  2021-03  117.839800\n",
       "262477      IDN     TOT  IDX2015  2021-04  117.995200\n",
       "262478      IDN     TOT  IDX2015  2021-05  118.372700\n",
       "262479      IDN     TOT  IDX2015  2021-06  118.183900\n",
       "262480      IDN     TOT  IDX2015  2021-07  118.272800\n",
       "\n",
       "[1803 rows x 5 columns]"
      ]
     },
     "execution_count": 18,
     "metadata": {},
     "output_type": "execute_result"
    }
   ],
   "source": [
    "df_indo2 = dataset2[dataset2['LOCATION'] == 'IDN']\n",
    "df_indo2"
   ]
  },
  {
   "cell_type": "code",
   "execution_count": 19,
   "metadata": {},
   "outputs": [
    {
     "data": {
      "text/html": [
       "<div>\n",
       "<style scoped>\n",
       "    .dataframe tbody tr th:only-of-type {\n",
       "        vertical-align: middle;\n",
       "    }\n",
       "\n",
       "    .dataframe tbody tr th {\n",
       "        vertical-align: top;\n",
       "    }\n",
       "\n",
       "    .dataframe thead th {\n",
       "        text-align: right;\n",
       "    }\n",
       "</style>\n",
       "<table border=\"1\" class=\"dataframe\">\n",
       "  <thead>\n",
       "    <tr style=\"text-align: right;\">\n",
       "      <th></th>\n",
       "      <th>LOCATION</th>\n",
       "      <th>SUBJECT</th>\n",
       "      <th>MEASURE</th>\n",
       "      <th>TIME</th>\n",
       "      <th>Value</th>\n",
       "    </tr>\n",
       "  </thead>\n",
       "  <tbody>\n",
       "    <tr>\n",
       "      <th>282821</th>\n",
       "      <td>EU27_2020</td>\n",
       "      <td>ENRG</td>\n",
       "      <td>IDX2015</td>\n",
       "      <td>2021-06</td>\n",
       "      <td>110.21</td>\n",
       "    </tr>\n",
       "    <tr>\n",
       "      <th>283080</th>\n",
       "      <td>EU27_2020</td>\n",
       "      <td>FOOD</td>\n",
       "      <td>IDX2015</td>\n",
       "      <td>2021-06</td>\n",
       "      <td>111.03</td>\n",
       "    </tr>\n",
       "    <tr>\n",
       "      <th>283339</th>\n",
       "      <td>EU27_2020</td>\n",
       "      <td>TOT</td>\n",
       "      <td>IDX2015</td>\n",
       "      <td>2021-06</td>\n",
       "      <td>108.65</td>\n",
       "    </tr>\n",
       "    <tr>\n",
       "      <th>283586</th>\n",
       "      <td>EU27_2020</td>\n",
       "      <td>TOT_FOODENRG</td>\n",
       "      <td>IDX2015</td>\n",
       "      <td>2021-06</td>\n",
       "      <td>107.20</td>\n",
       "    </tr>\n",
       "  </tbody>\n",
       "</table>\n",
       "</div>"
      ],
      "text/plain": [
       "         LOCATION       SUBJECT  MEASURE     TIME   Value\n",
       "282821  EU27_2020          ENRG  IDX2015  2021-06  110.21\n",
       "283080  EU27_2020          FOOD  IDX2015  2021-06  111.03\n",
       "283339  EU27_2020           TOT  IDX2015  2021-06  108.65\n",
       "283586  EU27_2020  TOT_FOODENRG  IDX2015  2021-06  107.20"
      ]
     },
     "execution_count": 19,
     "metadata": {},
     "output_type": "execute_result"
    }
   ],
   "source": [
    "# find same value SUBJECT column\n",
    "checksubject = dataset2.drop_duplicates(subset='SUBJECT', keep=\"last\")\n",
    "checksubject"
   ]
  },
  {
   "cell_type": "code",
   "execution_count": 20,
   "metadata": {},
   "outputs": [
    {
     "data": {
      "text/html": [
       "<div>\n",
       "<style scoped>\n",
       "    .dataframe tbody tr th:only-of-type {\n",
       "        vertical-align: middle;\n",
       "    }\n",
       "\n",
       "    .dataframe tbody tr th {\n",
       "        vertical-align: top;\n",
       "    }\n",
       "\n",
       "    .dataframe thead th {\n",
       "        text-align: right;\n",
       "    }\n",
       "</style>\n",
       "<table border=\"1\" class=\"dataframe\">\n",
       "  <thead>\n",
       "    <tr style=\"text-align: right;\">\n",
       "      <th></th>\n",
       "      <th>LOCATION</th>\n",
       "      <th>SUBJECT</th>\n",
       "      <th>MEASURE</th>\n",
       "      <th>TIME</th>\n",
       "      <th>Value</th>\n",
       "    </tr>\n",
       "  </thead>\n",
       "  <tbody>\n",
       "    <tr>\n",
       "      <th>282574</th>\n",
       "      <td>EU27_2020</td>\n",
       "      <td>TOT_FOODENRG</td>\n",
       "      <td>AGRWTH</td>\n",
       "      <td>2021-06</td>\n",
       "      <td>1.2</td>\n",
       "    </tr>\n",
       "    <tr>\n",
       "      <th>283586</th>\n",
       "      <td>EU27_2020</td>\n",
       "      <td>TOT_FOODENRG</td>\n",
       "      <td>IDX2015</td>\n",
       "      <td>2021-06</td>\n",
       "      <td>107.2</td>\n",
       "    </tr>\n",
       "  </tbody>\n",
       "</table>\n",
       "</div>"
      ],
      "text/plain": [
       "         LOCATION       SUBJECT  MEASURE     TIME  Value\n",
       "282574  EU27_2020  TOT_FOODENRG   AGRWTH  2021-06    1.2\n",
       "283586  EU27_2020  TOT_FOODENRG  IDX2015  2021-06  107.2"
      ]
     },
     "execution_count": 20,
     "metadata": {},
     "output_type": "execute_result"
    }
   ],
   "source": [
    "# find same value at MEASURE column\n",
    "checkmeasure = dataset2.drop_duplicates(subset='MEASURE', keep=\"last\")\n",
    "checkmeasure"
   ]
  },
  {
   "cell_type": "markdown",
   "metadata": {},
   "source": [
    "**(Customer Price Index) Based on MEASURE**\n",
    "\n",
    "AGRWTH = Annual growth rate (%)\n",
    "\n",
    "IDX2015 = 2015=100\n",
    "\n",
    "https://fgeerolf.com/data/oecd/DP_LIVE.html"
   ]
  },
  {
   "cell_type": "code",
   "execution_count": 35,
   "metadata": {},
   "outputs": [
    {
     "data": {
      "text/html": [
       "<div>\n",
       "<style scoped>\n",
       "    .dataframe tbody tr th:only-of-type {\n",
       "        vertical-align: middle;\n",
       "    }\n",
       "\n",
       "    .dataframe tbody tr th {\n",
       "        vertical-align: top;\n",
       "    }\n",
       "\n",
       "    .dataframe thead th {\n",
       "        text-align: right;\n",
       "    }\n",
       "</style>\n",
       "<table border=\"1\" class=\"dataframe\">\n",
       "  <thead>\n",
       "    <tr style=\"text-align: right;\">\n",
       "      <th></th>\n",
       "      <th>LOCATION</th>\n",
       "      <th>SUBJECT</th>\n",
       "      <th>MEASURE</th>\n",
       "      <th>TIME</th>\n",
       "      <th>Value</th>\n",
       "    </tr>\n",
       "  </thead>\n",
       "  <tbody>\n",
       "    <tr>\n",
       "      <th>5227</th>\n",
       "      <td>IDN</td>\n",
       "      <td>TOT</td>\n",
       "      <td>AGRWTH</td>\n",
       "      <td>1969</td>\n",
       "      <td>15.479880</td>\n",
       "    </tr>\n",
       "    <tr>\n",
       "      <th>5228</th>\n",
       "      <td>IDN</td>\n",
       "      <td>TOT</td>\n",
       "      <td>AGRWTH</td>\n",
       "      <td>1970</td>\n",
       "      <td>12.399460</td>\n",
       "    </tr>\n",
       "    <tr>\n",
       "      <th>5229</th>\n",
       "      <td>IDN</td>\n",
       "      <td>TOT</td>\n",
       "      <td>AGRWTH</td>\n",
       "      <td>1971</td>\n",
       "      <td>4.233751</td>\n",
       "    </tr>\n",
       "    <tr>\n",
       "      <th>5230</th>\n",
       "      <td>IDN</td>\n",
       "      <td>TOT</td>\n",
       "      <td>AGRWTH</td>\n",
       "      <td>1972</td>\n",
       "      <td>6.521739</td>\n",
       "    </tr>\n",
       "    <tr>\n",
       "      <th>5231</th>\n",
       "      <td>IDN</td>\n",
       "      <td>TOT</td>\n",
       "      <td>AGRWTH</td>\n",
       "      <td>1973</td>\n",
       "      <td>31.041890</td>\n",
       "    </tr>\n",
       "  </tbody>\n",
       "</table>\n",
       "</div>"
      ],
      "text/plain": [
       "     LOCATION SUBJECT MEASURE  TIME      Value\n",
       "5227      IDN     TOT  AGRWTH  1969  15.479880\n",
       "5228      IDN     TOT  AGRWTH  1970  12.399460\n",
       "5229      IDN     TOT  AGRWTH  1971   4.233751\n",
       "5230      IDN     TOT  AGRWTH  1972   6.521739\n",
       "5231      IDN     TOT  AGRWTH  1973  31.041890"
      ]
     },
     "execution_count": 35,
     "metadata": {},
     "output_type": "execute_result"
    }
   ],
   "source": [
    "df_indo_before = df_indo2[(df_indo2['TIME'] <= '1997')]\n",
    "df_indo_before.head()"
   ]
  },
  {
   "cell_type": "code",
   "execution_count": 45,
   "metadata": {},
   "outputs": [
    {
     "name": "stderr",
     "output_type": "stream",
     "text": [
      "c:\\users\\wisnoe\\anaconda3\\envs\\coba\\lib\\site-packages\\seaborn\\_decorators.py:43: FutureWarning: Pass the following variables as keyword args: x, y. From version 0.12, the only valid positional argument will be `data`, and passing other arguments without an explicit keyword will result in an error or misinterpretation.\n",
      "  FutureWarning\n"
     ]
    },
    {
     "data": {
      "image/png": "[encoded data removed]",
      "text/plain": [
       "<Figure size 720x504 with 1 Axes>"
      ]
     },
     "metadata": {
      "needs_background": "light"
     },
     "output_type": "display_data"
    }
   ],
   "source": [
    "plt.figure(figsize=(10,7))\n",
    "sns.barplot(df_indo_before['MEASURE'], df_indo_before['Value'])\n",
    "plt.title('BEFORE CRISIS')\n",
    "plt.ylabel('Customer Price Index', fontsize=12)\n",
    "plt.xticks(rotation=90)\n",
    "plt.xlabel('MEASURE', fontsize=12)\n",
    "plt.show()"
   ]
  },
  {
   "cell_type": "code",
   "execution_count": 37,
   "metadata": {},
   "outputs": [
    {
     "data": {
      "text/html": [
       "<div>\n",
       "<style scoped>\n",
       "    .dataframe tbody tr th:only-of-type {\n",
       "        vertical-align: middle;\n",
       "    }\n",
       "\n",
       "    .dataframe tbody tr th {\n",
       "        vertical-align: top;\n",
       "    }\n",
       "\n",
       "    .dataframe thead th {\n",
       "        text-align: right;\n",
       "    }\n",
       "</style>\n",
       "<table border=\"1\" class=\"dataframe\">\n",
       "  <thead>\n",
       "    <tr style=\"text-align: right;\">\n",
       "      <th></th>\n",
       "      <th>LOCATION</th>\n",
       "      <th>SUBJECT</th>\n",
       "      <th>MEASURE</th>\n",
       "      <th>TIME</th>\n",
       "      <th>Value</th>\n",
       "    </tr>\n",
       "  </thead>\n",
       "  <tbody>\n",
       "    <tr>\n",
       "      <th>5256</th>\n",
       "      <td>IDN</td>\n",
       "      <td>TOT</td>\n",
       "      <td>AGRWTH</td>\n",
       "      <td>1998</td>\n",
       "      <td>58.451050</td>\n",
       "    </tr>\n",
       "    <tr>\n",
       "      <th>5257</th>\n",
       "      <td>IDN</td>\n",
       "      <td>TOT</td>\n",
       "      <td>AGRWTH</td>\n",
       "      <td>1999</td>\n",
       "      <td>20.477830</td>\n",
       "    </tr>\n",
       "    <tr>\n",
       "      <th>5258</th>\n",
       "      <td>IDN</td>\n",
       "      <td>TOT</td>\n",
       "      <td>AGRWTH</td>\n",
       "      <td>2000</td>\n",
       "      <td>3.688618</td>\n",
       "    </tr>\n",
       "    <tr>\n",
       "      <th>5259</th>\n",
       "      <td>IDN</td>\n",
       "      <td>TOT</td>\n",
       "      <td>AGRWTH</td>\n",
       "      <td>2001</td>\n",
       "      <td>11.500120</td>\n",
       "    </tr>\n",
       "    <tr>\n",
       "      <th>5260</th>\n",
       "      <td>IDN</td>\n",
       "      <td>TOT</td>\n",
       "      <td>AGRWTH</td>\n",
       "      <td>2002</td>\n",
       "      <td>11.900120</td>\n",
       "    </tr>\n",
       "  </tbody>\n",
       "</table>\n",
       "</div>"
      ],
      "text/plain": [
       "     LOCATION SUBJECT MEASURE  TIME      Value\n",
       "5256      IDN     TOT  AGRWTH  1998  58.451050\n",
       "5257      IDN     TOT  AGRWTH  1999  20.477830\n",
       "5258      IDN     TOT  AGRWTH  2000   3.688618\n",
       "5259      IDN     TOT  AGRWTH  2001  11.500120\n",
       "5260      IDN     TOT  AGRWTH  2002  11.900120"
      ]
     },
     "execution_count": 37,
     "metadata": {},
     "output_type": "execute_result"
    }
   ],
   "source": [
    "df_indo_after = df_indo2[(df_indo2['TIME'] >= '1998')]\n",
    "df_indo_after.head()"
   ]
  },
  {
   "cell_type": "code",
   "execution_count": 42,
   "metadata": {},
   "outputs": [
    {
     "name": "stderr",
     "output_type": "stream",
     "text": [
      "c:\\users\\wisnoe\\anaconda3\\envs\\coba\\lib\\site-packages\\seaborn\\_decorators.py:43: FutureWarning: Pass the following variables as keyword args: x, y. From version 0.12, the only valid positional argument will be `data`, and passing other arguments without an explicit keyword will result in an error or misinterpretation.\n",
      "  FutureWarning\n"
     ]
    },
    {
     "data": {
      "image/png": "[encoded data removed]",
      "text/plain": [
       "<Figure size 720x504 with 1 Axes>"
      ]
     },
     "metadata": {
      "needs_background": "light"
     },
     "output_type": "display_data"
    }
   ],
   "source": [
    "plt.figure(figsize=(10,7))\n",
    "sns.barplot(df_indo_after['MEASURE'], df_indo_after['Value'])\n",
    "plt.title('AFTER CRISIS')\n",
    "plt.ylabel('Customer Price Index', fontsize=12)\n",
    "plt.xticks(rotation=90)\n",
    "plt.xlabel('MEASURE', fontsize=12)\n",
    "plt.show()"
   ]
  },
  {
   "cell_type": "code",
   "execution_count": 52,
   "metadata": {},
   "outputs": [
    {
     "data": {
      "image/png": "[encoded data removed]",
      "text/plain": [
       "<Figure size 1080x1080 with 1 Axes>"
      ]
     },
     "metadata": {
      "needs_background": "light"
     },
     "output_type": "display_data"
    }
   ],
   "source": [
    "fig, ax = plt.subplots(figsize=(15,15))\n",
    "x = df_indo_before['TIME'].array\n",
    "y = df_indo_before['Value'].array\n",
    "plt.ylabel('Customer Price Index', fontsize=12)\n",
    "ax.scatter(x, y)\n",
    "ax.axes.get_xaxis().set_ticks([])\n",
    "for i, year in enumerate(x):\n",
    "    if y[i] > 45:\n",
    "        label = year + \", CPI \" + str(y[i])\n",
    "    else:\n",
    "        label = ''\n",
    "    ax.annotate(label, (x[i], y[i]))"
   ]
  },
  {
   "cell_type": "code",
   "execution_count": 55,
   "metadata": {},
   "outputs": [
    {
     "data": {
      "image/png": "[encoded data removed]",
      "text/plain": [
       "<Figure size 1080x1080 with 1 Axes>"
      ]
     },
     "metadata": {
      "needs_background": "light"
     },
     "output_type": "display_data"
    }
   ],
   "source": [
    "fig, ax = plt.subplots(figsize=(15,15))\n",
    "x = df_indo_after['TIME'].array\n",
    "y = df_indo_after['Value'].array\n",
    "plt.ylabel('Customer Price Index', fontsize=12)\n",
    "ax.scatter(x, y)\n",
    "ax.axes.get_xaxis().set_ticks([])\n",
    "for i, year in enumerate(x):\n",
    "    if y[i] > 118:\n",
    "        label = year + \", CPI \" + str(y[i])\n",
    "    else:\n",
    "        label = ''\n",
    "    ax.annotate(label, (x[i], y[i]))"
   ]
  },
  {
   "cell_type": "code",
   "execution_count": null,
   "metadata": {},
   "outputs": [],
   "source": []
  }
 ],
 "metadata": {
  "colab": {
   "collapsed_sections": [],
   "name": "Week 5 - Data Preparation With Python.ipynb",
   "provenance": []
  },
  "kernelspec": {
   "display_name": "Python 3",
   "language": "python",
   "name": "python3"
  },
  "language_info": {
   "codemirror_mode": {
    "name": "ipython",
    "version": 3
   },
   "file_extension": ".py",
   "mimetype": "text/x-python",
   "name": "python",
   "nbconvert_exporter": "python",
   "pygments_lexer": "ipython3",
   "version": "3.7.7"
  }
 },
 "nbformat": 4,
 "nbformat_minor": 1
}
